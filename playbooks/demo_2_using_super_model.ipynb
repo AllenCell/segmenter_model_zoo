{
 "cells": [
  {
   "cell_type": "code",
   "execution_count": 1,
   "metadata": {},
   "outputs": [],
   "source": [
    "from segmenter_model_zoo.zoo import SuperModel, list_all_super_models\n",
    "from aicsimageio import AICSImage\n",
    "from itkwidgets import view\n",
    "import numpy as np\n",
    "from aicsmlsegment.utils import background_sub, simple_norm"
   ]
  },
  {
   "cell_type": "code",
   "execution_count": 2,
   "metadata": {},
   "outputs": [
    {
     "name": "stdout",
     "output_type": "stream",
     "text": [
      "DNA_MEM_instance_basic\n",
      "DNA_MEM_instance_plus_LF\n",
      "DNA_MEM_instance_plus_LF_two_camera\n",
      "LMNB1_morphological_production_alpha\n",
      "structure_AAVS1_110x_hipsc\n",
      "structure_H2B_110x_hipsc\n"
     ]
    }
   ],
   "source": [
    "# check out what models are available\n",
    "list_all_super_models()"
   ]
  },
  {
   "cell_type": "code",
   "execution_count": 3,
   "metadata": {},
   "outputs": [
    {
     "name": "stdout",
     "output_type": "stream",
     "text": [
      "2 x Z x Y x X (dna | mem), or file path and index list\n"
     ]
    }
   ],
   "source": [
    "# check instruction for one model\n",
    "list_all_super_models(\"DNA_MEM_instance_basic\")"
   ]
  },
  {
   "cell_type": "markdown",
   "metadata": {},
   "source": [
    "## step 1: Load one model\n",
    "\n",
    "Suppose you want to load the \"DNA_MEM_instance_basic\". You can do `my_super_model = SuperModel(\"DNA_MEM_instance_basic\")`. This will automatically download the pre-trained models from cloud storage and save a local copy at \"./\". You can also specify where to save the local copy by, for example, `my_super_model = SuperModel(\"DNA_MEM_instance_basic\", {\"local_path\":\"./all_models/\"})`. If you already have downloaded the model before and saved it at \"./all_models/\", there won't be any download and the local model will be directly loaded."
   ]
  },
  {
   "cell_type": "code",
   "execution_count": 4,
   "metadata": {},
   "outputs": [
    {
     "name": "stdout",
     "output_type": "stream",
     "text": [
      "model DNA_mask_production is successfully loaded\n",
      "model CellMask_edge_production is successfully loaded\n",
      "model DNA_seed_production is successfully loaded\n",
      "2 x Z x Y x X (dna | mem), or file path and index list\n"
     ]
    }
   ],
   "source": [
    "my_super_model = SuperModel(\"DNA_MEM_instance_basic\", {\"local_path\":\"./all_models/\"})"
   ]
  },
  {
   "cell_type": "markdown",
   "metadata": {},
   "source": [
    "## step 2: apply the model on one image\n",
    "\n",
    "There are two different ways to apply the model: applying on a numpy array or just providing a filepath and which channels to load."
   ]
  },
  {
   "cell_type": "code",
   "execution_count": 5,
   "metadata": {},
   "outputs": [
    {
     "name": "stdout",
     "output_type": "stream",
     "text": [
      "image normalization is done\n",
      "applying all DL models ... ...\n",
      "predictions are done.\n",
      "watershed based cell segmentation is done.\n",
      "stack bottom has been properly updated.\n",
      "size based QC is done\n",
      "refining dna masks ... ...\n",
      "refinement is done.\n"
     ]
    }
   ],
   "source": [
    "# read one image as numpy array, and apply the model on it\n",
    "reader = AICSImage(\"C:/projects/demo/data/3500000875_100X_20170508_12-Scene-3-P37-E06.ome.tiff\")\n",
    "input_img = reader.get_image_data(\"CZYX\", C=[2, 0], S=0, T=0)\n",
    "seg_out, seg_name = my_super_model.apply_on_single_zstack(input_img)"
   ]
  },
  {
   "cell_type": "code",
   "execution_count": 6,
   "metadata": {},
   "outputs": [
    {
     "data": {
      "application/vnd.jupyter.widget-view+json": {
       "model_id": "489154f1ca634ced8d516bee78451a9f",
       "version_major": 2,
       "version_minor": 0
      },
      "text/plain": [
       "Viewer(geometries=[], gradient_opacity=0.22, point_sets=[], rendered_image=<itk.itkImagePython.itkImageUC3; pr…"
      ]
     },
     "metadata": {},
     "output_type": "display_data"
    }
   ],
   "source": [
    "view(seg_out[0])"
   ]
  },
  {
   "cell_type": "code",
   "execution_count": 7,
   "metadata": {},
   "outputs": [
    {
     "name": "stdout",
     "output_type": "stream",
     "text": [
      "['cell_segmentation', 'dna_segmentation']\n"
     ]
    }
   ],
   "source": [
    "# find out which is which from seg_name\n",
    "print(seg_name)"
   ]
  },
  {
   "cell_type": "code",
   "execution_count": 8,
   "metadata": {},
   "outputs": [
    {
     "name": "stdout",
     "output_type": "stream",
     "text": [
      "image normalization is done\n",
      "applying all DL models ... ...\n",
      "predictions are done.\n",
      "watershed based cell segmentation is done.\n",
      "stack bottom has been properly updated.\n",
      "size based QC is done\n",
      "refining dna masks ... ...\n",
      "refinement is done.\n"
     ]
    }
   ],
   "source": [
    "# or we can just provide the filename and which channel to use. \n",
    "# We can also overwrite some default parameters, e.g. using a smaller min_seed_size\n",
    "fn = \"C:/projects/demo/data/3500000875_100X_20170508_12-Scene-3-P37-E06.ome.tiff\"\n",
    "seg_out, seg_name = my_super_model.apply_on_single_zstack(filename=fn, inputCh=[2, 0], min_seed_size=5000) "
   ]
  },
  {
   "cell_type": "code",
   "execution_count": 9,
   "metadata": {},
   "outputs": [
    {
     "data": {
      "application/vnd.jupyter.widget-view+json": {
       "model_id": "a8d7aae962674c2e827acf55a4be51b4",
       "version_major": 2,
       "version_minor": 0
      },
      "text/plain": [
       "Viewer(geometries=[], gradient_opacity=0.22, point_sets=[], rendered_image=<itk.itkImagePython.itkImageUC3; pr…"
      ]
     },
     "metadata": {},
     "output_type": "display_data"
    }
   ],
   "source": [
    "view(seg_out[1])"
   ]
  },
  {
   "cell_type": "markdown",
   "metadata": {},
   "source": [
    "## Now, we can try another model\n"
   ]
  },
  {
   "cell_type": "code",
   "execution_count": 10,
   "metadata": {},
   "outputs": [
    {
     "name": "stdout",
     "output_type": "stream",
     "text": [
      "model LMNB1_all_production is successfully loaded\n",
      "model LMNB1_fill_production is successfully loaded\n",
      "model LMNB1_seed_production is successfully loaded\n",
      "model CellMask_edge_production is successfully loaded\n",
      "2 x Z x Y x X (lamin | mem) or file path and index list\n"
     ]
    }
   ],
   "source": [
    "my_super_model = SuperModel(\"LMNB1_morphological_production_alpha\", {\"local_path\":\"./all_models/\"})\n",
    "\n",
    "# apply the model on an image provided by filename\n",
    "# For this model, we can specify what kind of output we want to return. Let's try get more intermediate results using \"Rnd\" mode\n",
    "fn = \"C:/projects/demo/data/3500000875_100X_20170508_12-Scene-3-P37-E06.ome.tiff\"\n",
    "seg_out, seg_name = my_super_model.apply_on_single_zstack(filename=fn, inputCh=[1, 0], output_type=\"RnD\") "
   ]
  },
  {
   "cell_type": "code",
   "execution_count": 11,
   "metadata": {},
   "outputs": [
    {
     "name": "stdout",
     "output_type": "stream",
     "text": [
      "['_structure_', '_fill_', '_shell_']\n"
     ]
    }
   ],
   "source": [
    "print(seg_name)"
   ]
  },
  {
   "cell_type": "code",
   "execution_count": 12,
   "metadata": {},
   "outputs": [
    {
     "data": {
      "application/vnd.jupyter.widget-view+json": {
       "model_id": "abfc900ec6c244089fff0363af8af013",
       "version_major": 2,
       "version_minor": 0
      },
      "text/plain": [
       "Viewer(geometries=[], gradient_opacity=0.22, point_sets=[], rendered_image=<itk.itkImagePython.itkImageUC3; pr…"
      ]
     },
     "metadata": {},
     "output_type": "display_data"
    }
   ],
   "source": [
    "view(seg_out[0])"
   ]
  },
  {
   "cell_type": "code",
   "execution_count": null,
   "metadata": {},
   "outputs": [],
   "source": []
  }
 ],
 "metadata": {
  "kernelspec": {
   "display_name": "Python 3",
   "language": "python",
   "name": "python3"
  },
  "language_info": {
   "codemirror_mode": {
    "name": "ipython",
    "version": 3
   },
   "file_extension": ".py",
   "mimetype": "text/x-python",
   "name": "python",
   "nbconvert_exporter": "python",
   "pygments_lexer": "ipython3",
   "version": "3.8.5"
  }
 },
 "nbformat": 4,
 "nbformat_minor": 4
}
